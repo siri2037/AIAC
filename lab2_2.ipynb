{
  "nbformat": 4,
  "nbformat_minor": 0,
  "metadata": {
    "colab": {
      "provenance": [],
      "authorship_tag": "ABX9TyMGBZ4xkxAWYTZhYWEz8js7",
      "include_colab_link": true
    },
    "kernelspec": {
      "name": "python3",
      "display_name": "Python 3"
    },
    "language_info": {
      "name": "python"
    }
  },
  "cells": [
    {
      "cell_type": "markdown",
      "metadata": {
        "id": "view-in-github",
        "colab_type": "text"
      },
      "source": [
        "<a href=\"https://colab.research.google.com/github/siri2037/AIAC/blob/main/lab2_2.ipynb\" target=\"_parent\"><img src=\"https://colab.research.google.com/assets/colab-badge.svg\" alt=\"Open In Colab\"/></a>"
      ]
    },
    {
      "cell_type": "markdown",
      "source": [
        "TASK 1:  write a function that filters out all negative numbers from a given list.PROMPT: write a function that filters out all negative numbers from a given list."
      ],
      "metadata": {
        "id": "YaOdqmegJxkw"
      }
    },
    {
      "cell_type": "code",
      "source": [
        "def filter_negative_numbers(numbers):\n",
        "  \"\"\"\n",
        "  Filters out all negative numbers from a given list.\n",
        "\n",
        "  Args:\n",
        "    numbers: A list of numbers.\n",
        "\n",
        "  Returns:\n",
        "    A new list containing only the non-negative numbers from the input list.\n",
        "  \"\"\"\n",
        "  return [num for num in numbers if num >= 0]\n",
        "\n",
        "# Take input dynamically from the user\n",
        "input_string = input(\"Enter a list of numbers separated by spaces: \")\n",
        "\n",
        "# Convert the input string to a list of numbers\n",
        "try:\n",
        "  my_list = [int(x) for x in input_string.split()]\n",
        "except ValueError:\n",
        "  print(\"Invalid input. Please enter numbers separated by spaces.\")\n",
        "  my_list = []\n",
        "\n",
        "# Filter the negative numbers\n",
        "filtered_list = filter_negative_numbers(my_list)\n",
        "\n",
        "# Print the result\n",
        "print(\"Original list:\", my_list)\n",
        "print(\"Filtered list:\", filtered_list)"
      ],
      "metadata": {
        "colab": {
          "base_uri": "https://localhost:8080/"
        },
        "id": "oAZzSixhKITK",
        "outputId": "ae7f39e5-d589-4127-f76f-73fab497ba9d"
      },
      "execution_count": 2,
      "outputs": [
        {
          "output_type": "stream",
          "name": "stdout",
          "text": [
            "Enter a list of numbers separated by spaces: -1 -2 -7 23 4 5 2 8 \n",
            "Original list: [-1, -2, -7, 23, 4, 5, 2, 8]\n",
            "Filtered list: [23, 4, 5, 2, 8]\n"
          ]
        }
      ]
    },
    {
      "cell_type": "markdown",
      "source": [
        "EXPLANATION : This code defines a function filter_negative_numbers that takes a list of numbers as input and returns a new list containing only the non-negative numbers. It uses a list comprehension [num for num in numbers if num >= 0] to efficiently filter the list.\n",
        "\n",
        "The code then prompts the user to enter a list of numbers separated by spaces, converts the input string into a list of integers, handles potential ValueError if the input is not valid, filters the negative numbers using the defined function, and finally prints both the original and the filtered lists."
      ],
      "metadata": {
        "id": "i-RMLm2_Kxz3"
      }
    },
    {
      "cell_type": "markdown",
      "source": [
        "TASK 2 :Generate code that reads a text file and counts the frequency of each word. Then ask it to explain the code.PROMPT:Generate code that reads a text file and counts the frequency of each word. Then ask it to explain the code"
      ],
      "metadata": {
        "id": "GNkf_cVRK9eZ"
      }
    },
    {
      "cell_type": "code",
      "source": [
        "import string\n",
        "\n",
        "def count_word_frequency(filename):\n",
        "  \"\"\"\n",
        "  Reads a text file and counts the frequency of each word.\n",
        "\n",
        "  Args:\n",
        "    filename: The path to the text file.\n",
        "\n",
        "  Returns:\n",
        "    A dictionary where keys are words and values are their frequencies.\n",
        "  \"\"\"\n",
        "  word_counts = {}\n",
        "  try:\n",
        "    with open(filename, 'r') as file:\n",
        "      for line in file:\n",
        "        # Remove punctuation and convert to lowercase\n",
        "        line = line.translate(str.maketrans('', '', string.punctuation)).lower()\n",
        "        words = line.split()\n",
        "        for word in words:\n",
        "          word_counts[word] = word_counts.get(word, 0) + 1\n",
        "  except FileNotFoundError:\n",
        "    print(f\"Error: File '{filename}' not found.\")\n",
        "    return None\n",
        "  return word_counts\n",
        "\n",
        "# Take filename input dynamically from the user\n",
        "filename = input(\"Enter the name of the text file: \")\n",
        "\n",
        "# Count word frequency and print the result\n",
        "word_frequencies = count_word_frequency(filename)\n",
        "\n",
        "if word_frequencies:\n",
        "  print(\"\\nWord Frequencies:\")\n",
        "  for word, frequency in word_frequencies.items():\n",
        "    print(f\"{word}: {frequency}\")"
      ],
      "metadata": {
        "colab": {
          "base_uri": "https://localhost:8080/"
        },
        "id": "aJ3rmljgLGn_",
        "outputId": "4eb36e32-dae2-48cd-b008-94b33d1c4b91"
      },
      "execution_count": 3,
      "outputs": [
        {
          "output_type": "stream",
          "name": "stdout",
          "text": [
            "Enter the name of the text file: amma's healing hand\n",
            "Error: File 'amma's healing hand' not found.\n"
          ]
        }
      ]
    },
    {
      "cell_type": "markdown",
      "source": [
        "Explanation : This code defines a function called count_word_frequency that takes a filename as input. It reads the text file, removes punctuation and converts the text to lowercase, then splits the text into individual words. It counts how many times each word appears and stores this information in a dictionary. The code also includes error handling for when the specified file is not found. Finally, it prompts the user for a filename, calls the function to get the word frequencies, and then prints out each word and its count."
      ],
      "metadata": {
        "id": "vmbn7VS0LeD9"
      }
    },
    {
      "cell_type": "markdown",
      "source": [
        "TASK 3:Generate a Python class called Book with attributes title, author, and a method summary() that prints the details.PROMPT:Generate a Python class called Book with attributes title, author, and a method summary() that prints the details."
      ],
      "metadata": {
        "id": "lPq-nyYYLutn"
      }
    },
    {
      "cell_type": "code",
      "source": [
        "class Book:\n",
        "  \"\"\"\n",
        "  A class to represent a book.\n",
        "\n",
        "  Attributes:\n",
        "    title (str): The title of the book.\n",
        "    author (str): The author of the book.\n",
        "  \"\"\"\n",
        "  def __init__(self, title, author):\n",
        "    \"\"\"\n",
        "    Initializes a new Book object.\n",
        "\n",
        "    Args:\n",
        "      title: The title of the book.\n",
        "      author: The author of the book.\n",
        "    \"\"\"\n",
        "    self.title = title\n",
        "    self.author = author\n",
        "\n",
        "  def summary(self):\n",
        "    \"\"\"\n",
        "    Prints the details of the book.\n",
        "    \"\"\"\n",
        "    print(f\"Title: {self.title}\")\n",
        "    print(f\"Author: {self.author}\")\n",
        "\n",
        "# Take input dynamically from the user\n",
        "book_title = input(\"Enter the book title: \")\n",
        "book_author = input(\"Enter the book author: \")\n",
        "\n",
        "# Create a Book object with dynamic input\n",
        "my_book = Book(book_title, book_author)\n",
        "\n",
        "# Print the summary of the book\n",
        "my_book.summary()"
      ],
      "metadata": {
        "colab": {
          "base_uri": "https://localhost:8080/"
        },
        "id": "B5ytdob6L8vD",
        "outputId": "fa9aa847-80be-458a-91fc-e1c37e1a275f"
      },
      "execution_count": 5,
      "outputs": [
        {
          "output_type": "stream",
          "name": "stdout",
          "text": [
            "Enter the book title: discrete mathematics\n",
            "Enter the book author: jhon\n",
            "Title: discrete mathematics\n",
            "Author: jhon\n"
          ]
        }
      ]
    },
    {
      "cell_type": "markdown",
      "source": [
        "EXPLANATION: This code defines a Python class named Book to represent a book, having attributes for its title and author. The __init__ method is used to create a new book object, taking the title and author as input and storing them. The summary method is defined to print the stored title and author details for a specific book object. Below the class definition, the code prompts the user to enter a book title and author, then creates a new Book object using the user's input. Finally, it calls the summary method on the newly created book object to display its details."
      ],
      "metadata": {
        "id": "Ml4oZFk_MoaU"
      }
    },
    {
      "cell_type": "markdown",
      "source": [
        "TASK 4:write a program that checks whether a number is an Armstrong number, and then modify it using Cursor AI to improve performance or structure.PROMPT:write a program that checks whether a number is an Armstrong number, and then modify it using Cursor AI to improve performance or structure."
      ],
      "metadata": {
        "id": "byKKKvIuM6VZ"
      }
    },
    {
      "cell_type": "code",
      "source": [
        "def is_armstrong_number(number):\n",
        "  \"\"\"\n",
        "  Checks if a number is an Armstrong number.\n",
        "\n",
        "  An Armstrong number (also known as a narcissistic number,\n",
        "  pluperfect digital invariant, or Plus Perfect number) is a\n",
        "  number that is the sum of its own digits each raised to the\n",
        "  power of the number of digits.\n",
        "\n",
        "  Args:\n",
        "    number: An integer.\n",
        "\n",
        "  Returns:\n",
        "    True if the number is an Armstrong number, False otherwise.\n",
        "  \"\"\"\n",
        "  # Convert the number to a string to get the number of digits\n",
        "  num_str = str(number)\n",
        "  num_digits = len(num_str)\n",
        "  sum_of_powers = 0\n",
        "\n",
        "  # Calculate the sum of each digit raised to the power of the number of digits\n",
        "  for digit in num_str:\n",
        "    sum_of_powers += int(digit) ** num_digits\n",
        "\n",
        "  # Check if the sum is equal to the original number\n",
        "  return sum_of_powers == number\n",
        "\n",
        "# Take input dynamically from the user\n",
        "try:\n",
        "  num_input = int(input(\"Enter an integer to check if it's an Armstrong number: \"))\n",
        "  if is_armstrong_number(num_input):\n",
        "    print(f\"{num_input} is an Armstrong number.\")\n",
        "  else:\n",
        "    print(f\"{num_input} is not an Armstrong number.\")\n",
        "except ValueError:\n",
        "  print(\"Invalid input. Please enter an integer.\")"
      ],
      "metadata": {
        "colab": {
          "base_uri": "https://localhost:8080/"
        },
        "id": "YcSi4qrkNS-y",
        "outputId": "277bf852-657c-4795-cba8-42136b5c7987"
      },
      "execution_count": 7,
      "outputs": [
        {
          "output_type": "stream",
          "name": "stdout",
          "text": [
            "Enter an integer to check if it's an Armstrong number: 153\n",
            "153 is an Armstrong number.\n"
          ]
        }
      ]
    },
    {
      "cell_type": "markdown",
      "source": [
        "EXPLANATION:This code checks if a number is an Armstrong number. It defines a function that calculates the sum of each digit raised to the power of the number of digits and compares it to the original number. The code then asks the user for an integer input and uses the function to determine and print if the number is an Armstrong number. It also handles cases where the input is not an integer."
      ],
      "metadata": {
        "id": "RSTUsrAgN-Gv"
      }
    },
    {
      "cell_type": "markdown",
      "source": [
        "TASK 5:Generate code for sorting a list of dictionaries by a specific key.PROMPT:Generate code for sorting a list of dictionaries by a specific key."
      ],
      "metadata": {
        "id": "_z0qil6UOSh1"
      }
    },
    {
      "cell_type": "code",
      "metadata": {
        "colab": {
          "base_uri": "https://localhost:8080/"
        },
        "id": "7a87fa1a",
        "outputId": "233b1721-0dfc-4bb2-ffcf-3b71aabf490e"
      },
      "source": [
        "# Example list of dictionaries\n",
        "list_of_dicts = [\n",
        "    {'name': 'Alice', 'age': 30, 'city': 'New York'},\n",
        "    {'name': 'Bob', 'age': 25, 'city': 'Los Angeles'},\n",
        "    {'name': 'Charlie', 'age': 35, 'city': 'Chicago'},\n",
        "    {'name': 'David', 'age': 25, 'city': 'New York'}\n",
        "]\n",
        "\n",
        "# Take input for the key to sort by\n",
        "sort_key = input(\"Enter the key to sort by (e.g., 'name', 'age', 'city'): \")\n",
        "\n",
        "# Sort the list of dictionaries by the specified key\n",
        "# Using a lambda function with sorted()\n",
        "try:\n",
        "  sorted_list = sorted(list_of_dicts, key=lambda x: x[sort_key])\n",
        "\n",
        "  # Print the sorted list\n",
        "  print(f\"\\nSorted list by '{sort_key}':\")\n",
        "  for item in sorted_list:\n",
        "    print(item)\n",
        "\n",
        "except KeyError:\n",
        "  print(f\"Error: The key '{sort_key}' was not found in the dictionaries.\")\n",
        "except Exception as e:\n",
        "  print(f\"An error occurred: {e}\")"
      ],
      "execution_count": 9,
      "outputs": [
        {
          "output_type": "stream",
          "name": "stdout",
          "text": [
            "Enter the key to sort by (e.g., 'name', 'age', 'city'): new york\n",
            "Error: The key 'new york' was not found in the dictionaries.\n"
          ]
        }
      ]
    },
    {
      "cell_type": "markdown",
      "source": [
        "EXPLANATION:This code defines an example list of dictionaries. It asks the user for a key name (like 'name' or 'age'). It then sorts the list of dictionaries based on the values found under that key in each dictionary and prints the sorted list. It also includes a check to see if the key the user entered actually exists in the dictionaries.\n",
        "\n"
      ],
      "metadata": {
        "id": "fxtMVdXiPH0H"
      }
    }
  ]
}